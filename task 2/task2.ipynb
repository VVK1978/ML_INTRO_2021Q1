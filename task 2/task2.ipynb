{
 "cells": [
  {
   "cell_type": "code",
   "execution_count": null,
   "metadata": {},
   "outputs": [],
   "source": [
    "\n",
    "import numpy as np\n",
    "import pandas as pd\n",
    "import seaborn as sns\n",
    "import matplotlib.pyplot as plt\n",
    "import random\n",
    "import re\n",
    "\n",
    "%matplotlib inline"
   ]
  },
  {
   "cell_type": "code",
   "execution_count": null,
   "metadata": {},
   "outputs": [],
   "source": [
    "data = pd.read_csv(\"data.csv\", index_col='ID')"
   ]
  },
  {
   "cell_type": "code",
   "execution_count": null,
   "metadata": {},
   "outputs": [],
   "source": [
    "data.head()"
   ]
  },
  {
   "cell_type": "code",
   "execution_count": null,
   "metadata": {},
   "outputs": [],
   "source": [
    "pd.set_option('display.max_columns', None)"
   ]
  },
  {
   "cell_type": "code",
   "execution_count": null,
   "metadata": {},
   "outputs": [],
   "source": [
    "data.head()"
   ]
  },
  {
   "cell_type": "code",
   "execution_count": null,
   "metadata": {},
   "outputs": [],
   "source": [
    "print(f\"Total number of players in dataset {data.shape[0]}\")"
   ]
  },
  {
   "cell_type": "code",
   "execution_count": null,
   "metadata": {},
   "outputs": [],
   "source": [
    "!pip install tabulate\n",
    "from tabulate import tabulate\n",
    "\n",
    "top = 10\n",
    "print(tabulate(\n",
    "    sorted(list(zip(data.columns, data.isnull().sum(), data.isnull().sum() / data.shape[0] * 100)), key=lambda x: -x[2])[:top], \n",
    "    headers=['col_name', 'null_cnt', 'null_perc']))"
   ]
  },
  {
   "cell_type": "code",
   "execution_count": null,
   "metadata": {},
   "outputs": [],
   "source": [
    "print(f\"Weight column type is '{data['Weight'].dtype}'\")"
   ]
  },
  {
   "cell_type": "code",
   "execution_count": null,
   "metadata": {},
   "outputs": [],
   "source": [
    "data['Weight_float'] = data['Weight'].str.extract(r'([0-9]+)lbs').astype(float)\n",
    "data['Weight_float'].fillna(data['Weight_float'].median())\n",
    "POUND_TO_KILO = 0.454\n",
    "data['Weight_kg'] = data.apply(lambda row: row['Weight_float'] * POUND_TO_KILO, axis=1)\n",
    "data.hist(column='Weight_kg', bins=30)\n",
    "plt.show()"
   ]
  },
  {
   "cell_type": "code",
   "execution_count": null,
   "metadata": {},
   "outputs": [],
   "source": [
    "Height= pd.DataFrame(data['Height'].str.replace(\"'\",\".\"),columns=['Height'])\n",
    "Height=Height.dropna()\n",
    "Height['Height_m']=Height.copy()\n",
    "FOOT_TO_INCH=12\n",
    "INCH_TO_METR=0.0254\n",
    "for x in range(len(Height['Height'])):\n",
    "    Height['Height_m'].iloc[x]=(float(Height['Height'].iloc[x][0])*FOOT_TO_INCH+float(Height['Height'].iloc[x][2:]))*INCH_TO_METR\n",
    "Height['Height_m']=pd.to_numeric(Height['Height_m'])\n",
    "Height.hist(column='Height_m', bins=20)\n",
    "plt.show()"
   ]
  },
  {
   "cell_type": "code",
   "execution_count": null,
   "metadata": {},
   "outputs": [],
   "source": [
    "data.plot.scatter(x='Weight_kg', y='Strength')\n",
    "plt.title('Dependence of strength on weight')\n",
    "plt.show()"
   ]
  },
  {
   "cell_type": "code",
   "execution_count": null,
   "metadata": {},
   "outputs": [],
   "source": [
    "sns.pairplot(data[['ShortPassing', 'Dribbling', 'BallControl', 'Strength']])"
   ]
  },
  {
   "cell_type": "code",
   "execution_count": null,
   "metadata": {},
   "outputs": [],
   "source": [
    "\n",
    "data['age_group'] = data.apply(lambda x: 'young' if x['Age'] < 20 else 'mature' if x['Age'] <= 30 else 'masters', axis=1)\n",
    "distr = data.groupby('age_group').count().max(axis=1)[['young', 'mature', 'masters']]\n",
    "\n",
    "plt.bar(distr.index, distr.values)\n",
    "plt.ylabel('Number of players')\n",
    "plt.title('Distribution of players across age groups')\n",
    "plt.show()"
   ]
  },
  {
   "cell_type": "code",
   "execution_count": null,
   "metadata": {},
   "outputs": [],
   "source": [
    "sns.boxplot(x='age_group', y='SprintSpeed', data=data);"
   ]
  },
  {
   "cell_type": "code",
   "execution_count": null,
   "metadata": {},
   "outputs": [],
   "source": [
    "from sklearn.model_selection import train_test_split\n",
    "\n",
    "data.fillna({'BallControl': data['BallControl'].mean(), 'Dribbling': data['Dribbling'].mean()}, inplace=True)\n",
    "X_train, X_test, y_train, y_test = train_test_split(data['Dribbling'].values, data['BallControl'].values, train_size=0.8)\n",
    "X_train = X_train.reshape(-1, 1)\n",
    "X_test = X_test.reshape(-1, 1)"
   ]
  },
  {
   "cell_type": "code",
   "execution_count": null,
   "metadata": {},
   "outputs": [],
   "source": [
    "from sklearn.linear_model import Ridge\n",
    "\n",
    "lr = Ridge(alpha=0)\n",
    "lr.fit(X=X_train, y=y_train)\n"
   ]
  },
  {
   "cell_type": "code",
   "execution_count": null,
   "metadata": {},
   "outputs": [],
   "source": [
    "print(f'w_0 = {lr.intercept_}, w_1 = {lr.coef_[0]}')"
   ]
  },
  {
   "cell_type": "code",
   "execution_count": null,
   "metadata": {},
   "outputs": [],
   "source": [
    "y_pred_train = lr.predict(X_train)\n",
    "y_pred_test = lr.predict(X_test)"
   ]
  },
  {
   "cell_type": "code",
   "execution_count": null,
   "metadata": {},
   "outputs": [],
   "source": [
    "data['predicted_BallControl'] = lr.predict(data['Dribbling'].values.reshape(-1, 1))\n",
    "data[['Name', 'Dribbling', 'BallControl', 'predicted_BallControl']].head()"
   ]
  },
  {
   "cell_type": "code",
   "execution_count": null,
   "metadata": {},
   "outputs": [],
   "source": [
    "def mse(y_true, y_pred):\n",
    "    error = np.square(y_true-y_pred).mean()\n",
    "    return error"
   ]
  },
  {
   "cell_type": "code",
   "execution_count": null,
   "metadata": {},
   "outputs": [],
   "source": [
    "from sklearn.metrics import mean_squared_error\n",
    "\n",
    "assert round(mean_squared_error(y_train, y_pred_train), 9) == round(mse(y_train, y_pred_train), 9)\n",
    "assert round(mean_squared_error(y_test, y_pred_test), 9) == round(mse(y_test, y_pred_test), 9)"
   ]
  },
  {
   "cell_type": "code",
   "execution_count": null,
   "metadata": {},
   "outputs": [],
   "source": [
    "print(f'Train MSE {mse(y_train, y_pred_train)}, test MSE {mse(y_test, y_pred_test)}')"
   ]
  },
  {
   "cell_type": "code",
   "execution_count": null,
   "metadata": {},
   "outputs": [],
   "source": [
    "x=data['Dribbling']\n",
    "y1 = data['predicted_BallControl']\n",
    "y2 = data['BallControl']\n",
    "fig, ax = plt.subplots()\n",
    "ax.scatter(x, y2,c='r',s=2)\n",
    "ax.scatter(x, y1,c='y',s=2)\n",
    "ax.legend(['true_score','predicted_score'])\n",
    "plt.xlabel('Dribbling')\n",
    "plt.ylabel('Ball Control')\n",
    "plt.show()"
   ]
  },
  {
   "cell_type": "code",
   "execution_count": null,
   "metadata": {},
   "outputs": [],
   "source": [
    "def compute_residuals(w, X, y):\n",
    "    #print(X)\n",
    "    \"\"\"\n",
    "    Compute residuals when predicting y_hat as matrix product of X and transposed w\n",
    "    :param w: linear regression weights, numpy.ndarrya: float64[num_features]\n",
    "    :param X: training features, numpy.ndarray: float64[num_samples, num_features]\n",
    "    :param y: training target, numpy.ndarray: float64[num_samples]\n",
    "    :returns: vector of residuals (y_i_hat - y_i) for each sample_i in X\n",
    "    \n",
    "    \"\"\"\n",
    "    residuals = np.dot(X,w.T) - y      \n",
    "    #print(residuals)\n",
    "    return residuals\n"
   ]
  },
  {
   "cell_type": "code",
   "execution_count": null,
   "metadata": {},
   "outputs": [],
   "source": [
    "from sklearn.base import BaseEstimator\n",
    "from sklearn.utils.validation import check_X_y, check_array, check_is_fitted\n",
    "from scipy.optimize import least_squares\n",
    "\n",
    "class LinearRegression(BaseEstimator):\n",
    "    def __init__(self, fit_intercept=True):\n",
    "        self.fit_intercept = fit_intercept\n",
    "    \n",
    "    def fit(self, X, y):\n",
    "\n",
    "        \"\"\"\n",
    "        fit model weights given input features and target\n",
    "        :param X: training features, numpy.ndarray: numeric[num_samples, num_features]\n",
    "        :param y: training target, numpy.ndarray: numeric[num_samples]\n",
    "        :returns: linear predictor with fitted weights so that train MSE is the lowest possible\n",
    "        :note: weights: numpy.ndarray: float64[num_features] stored as class field\n",
    "\n",
    "        \"\"\"\n",
    "        # Check that X and y have correct shape\n",
    "        X, y = check_X_y(X, y)\n",
    "        # Save train data information. Necessary for following the uniform API\n",
    "        self.X_ = X\n",
    "        self.y_ = y\n",
    "        self.n_features_in_ = X.shape[1]\n",
    "        # Copy arrays and cast them to uniform type\n",
    "        X_train = X.astype('float64')\n",
    "        y_train = y.astype('float64')\n",
    "        # Add dummy column of ones to X_train if we want to train an intercept - last component of future weight vector\n",
    "        #ls=least_squares(compute_residuals, np.zeros(X_train.shape[1]),args=(X_train,y_train))\n",
    "        #print(X_train)\n",
    "        if self.fit_intercept:\n",
    "            X_train = np.column_stack((X_train, np.ones(X_train.shape[0])))\n",
    "            ls=least_squares(compute_residuals, np.zeros(X_train.shape[1]),args=(X_train,y_train))\n",
    "            self.intercept_=ls.x[-1]\n",
    "            self.coef_=ls.x[0:-1]\n",
    "        else:\n",
    "            ls=least_squares(compute_residuals, np.zeros(X_train.shape[1]),args=(X_train,y_train))\n",
    "            self.intercept_ =0\n",
    "            self.coef_=ls.x\n",
    "            \n",
    "        # Your code here.\n",
    "        # Just follow the suggested steps: create initial weights vector,\n",
    "        # apply least_squares optimizer passing the parameters described above\n",
    "        # and finally extract optimized weights.\n",
    "        # Remember: you need to distinguish coefficients from intercept when fit_intercept=True\n",
    "        #self.coef_ =\n",
    "        #self.intercept_ =\n",
    "        # Return the classifier\n",
    "        return self\n",
    "        \n",
    "    def predict(self, X):\n",
    "        # Check is fit had been called\n",
    "        check_is_fitted(self)\n",
    "        \n",
    "        # Input validation\n",
    "        X = check_array(X)\n",
    "        \n",
    "        return X.dot(self.coef_) + self.intercept_"
   ]
  },
  {
   "cell_type": "code",
   "execution_count": null,
   "metadata": {},
   "outputs": [],
   "source": [
    "#Testing area\n",
    "from sklearn.utils.estimator_checks import check_estimator\n",
    "from sklearn.linear_model import Ridge\n",
    "\n",
    "lr = LinearRegression()\n",
    "ridge = Ridge(alpha=0)\n",
    "lr_no_intercept = LinearRegression(fit_intercept=False)\n",
    "ridge_no_intercept = Ridge(alpha=0, fit_intercept=False)\n",
    "\n",
    "#Check compatibility with Sklearn framework and apply some spesific internal tests\n",
    "check_estimator(lr)\n",
    "check_estimator(lr_no_intercept)\n",
    "\n",
    "#Compare model accuracy with Ridge(0) from Sklearn\n",
    "data.fillna({'BallControl': data['BallControl'].mean()\n",
    "             , 'Dribbling': data['Dribbling'].mean()\n",
    "             , 'Strength': data['Strength'].mean()}, inplace=True)\n",
    "X_sample, y_sample = data[['Dribbling', 'Strength']], data['BallControl']\n",
    "lr.fit(X_sample, y_sample)\n",
    "ridge.fit(X_sample, y_sample)\n",
    "assert np.allclose(lr.predict(X_sample), ridge.predict(X_sample), rtol=1e-03), \"Your model with intercept not accurate enough!\"\n",
    "lr_no_intercept.fit(X_sample, y_sample)\n",
    "ridge_no_intercept.fit(X_sample, y_sample)\n",
    "assert np.allclose(lr_no_intercept.predict(X_sample), ridge_no_intercept.predict(X_sample), rtol=1e-03), \"Your model without intercept not accurate enough!\""
   ]
  },
  {
   "cell_type": "code",
   "execution_count": null,
   "metadata": {},
   "outputs": [],
   "source": []
  }
 ],
 "metadata": {
  "kernelspec": {
   "display_name": "Python 3",
   "language": "python",
   "name": "python3"
  },
  "language_info": {
   "codemirror_mode": {
    "name": "ipython",
    "version": 3
   },
   "file_extension": ".py",
   "mimetype": "text/x-python",
   "name": "python",
   "nbconvert_exporter": "python",
   "pygments_lexer": "ipython3",
   "version": "3.8.5-final"
  }
 },
 "nbformat": 4,
 "nbformat_minor": 2
}