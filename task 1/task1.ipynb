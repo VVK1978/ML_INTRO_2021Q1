{
 "cells": [
  {
   "cell_type": "code",
   "execution_count": 6,
   "metadata": {},
   "outputs": [],
   "source": [
    "import pandas as pd\n",
    "import numpy as np"
   ]
  },
  {
   "cell_type": "code",
   "execution_count": 7,
   "metadata": {},
   "outputs": [],
   "source": [
    "mat = pd.read_csv(\"student-mat.csv\", sep=\";\")\n",
    "por = pd.read_csv(\"student-por.csv\", sep=\";\")\n"
   ]
  },
  {
   "cell_type": "code",
   "execution_count": 8,
   "metadata": {},
   "outputs": [
    {
     "output_type": "execute_result",
     "data": {
      "text/plain": [
       "  school sex  age address famsize Pstatus  Medu  Fedu     Mjob      Fjob  ...  \\\n",
       "0     GP   F   18       U     GT3       A     4     4  at_home   teacher  ...   \n",
       "1     GP   F   17       U     GT3       T     1     1  at_home     other  ...   \n",
       "2     GP   F   15       U     LE3       T     1     1  at_home     other  ...   \n",
       "3     GP   F   15       U     GT3       T     4     2   health  services  ...   \n",
       "4     GP   F   16       U     GT3       T     3     3    other     other  ...   \n",
       "\n",
       "  famrel freetime  goout  Dalc  Walc health absences  G1  G2  G3  \n",
       "0      4        3      4     1     1      3        6   5   6   6  \n",
       "1      5        3      3     1     1      3        4   5   5   6  \n",
       "2      4        3      2     2     3      3       10   7   8  10  \n",
       "3      3        2      2     1     1      5        2  15  14  15  \n",
       "4      4        3      2     1     2      5        4   6  10  10  \n",
       "\n",
       "[5 rows x 33 columns]"
      ],
      "text/html": "<div>\n<style scoped>\n    .dataframe tbody tr th:only-of-type {\n        vertical-align: middle;\n    }\n\n    .dataframe tbody tr th {\n        vertical-align: top;\n    }\n\n    .dataframe thead th {\n        text-align: right;\n    }\n</style>\n<table border=\"1\" class=\"dataframe\">\n  <thead>\n    <tr style=\"text-align: right;\">\n      <th></th>\n      <th>school</th>\n      <th>sex</th>\n      <th>age</th>\n      <th>address</th>\n      <th>famsize</th>\n      <th>Pstatus</th>\n      <th>Medu</th>\n      <th>Fedu</th>\n      <th>Mjob</th>\n      <th>Fjob</th>\n      <th>...</th>\n      <th>famrel</th>\n      <th>freetime</th>\n      <th>goout</th>\n      <th>Dalc</th>\n      <th>Walc</th>\n      <th>health</th>\n      <th>absences</th>\n      <th>G1</th>\n      <th>G2</th>\n      <th>G3</th>\n    </tr>\n  </thead>\n  <tbody>\n    <tr>\n      <th>0</th>\n      <td>GP</td>\n      <td>F</td>\n      <td>18</td>\n      <td>U</td>\n      <td>GT3</td>\n      <td>A</td>\n      <td>4</td>\n      <td>4</td>\n      <td>at_home</td>\n      <td>teacher</td>\n      <td>...</td>\n      <td>4</td>\n      <td>3</td>\n      <td>4</td>\n      <td>1</td>\n      <td>1</td>\n      <td>3</td>\n      <td>6</td>\n      <td>5</td>\n      <td>6</td>\n      <td>6</td>\n    </tr>\n    <tr>\n      <th>1</th>\n      <td>GP</td>\n      <td>F</td>\n      <td>17</td>\n      <td>U</td>\n      <td>GT3</td>\n      <td>T</td>\n      <td>1</td>\n      <td>1</td>\n      <td>at_home</td>\n      <td>other</td>\n      <td>...</td>\n      <td>5</td>\n      <td>3</td>\n      <td>3</td>\n      <td>1</td>\n      <td>1</td>\n      <td>3</td>\n      <td>4</td>\n      <td>5</td>\n      <td>5</td>\n      <td>6</td>\n    </tr>\n    <tr>\n      <th>2</th>\n      <td>GP</td>\n      <td>F</td>\n      <td>15</td>\n      <td>U</td>\n      <td>LE3</td>\n      <td>T</td>\n      <td>1</td>\n      <td>1</td>\n      <td>at_home</td>\n      <td>other</td>\n      <td>...</td>\n      <td>4</td>\n      <td>3</td>\n      <td>2</td>\n      <td>2</td>\n      <td>3</td>\n      <td>3</td>\n      <td>10</td>\n      <td>7</td>\n      <td>8</td>\n      <td>10</td>\n    </tr>\n    <tr>\n      <th>3</th>\n      <td>GP</td>\n      <td>F</td>\n      <td>15</td>\n      <td>U</td>\n      <td>GT3</td>\n      <td>T</td>\n      <td>4</td>\n      <td>2</td>\n      <td>health</td>\n      <td>services</td>\n      <td>...</td>\n      <td>3</td>\n      <td>2</td>\n      <td>2</td>\n      <td>1</td>\n      <td>1</td>\n      <td>5</td>\n      <td>2</td>\n      <td>15</td>\n      <td>14</td>\n      <td>15</td>\n    </tr>\n    <tr>\n      <th>4</th>\n      <td>GP</td>\n      <td>F</td>\n      <td>16</td>\n      <td>U</td>\n      <td>GT3</td>\n      <td>T</td>\n      <td>3</td>\n      <td>3</td>\n      <td>other</td>\n      <td>other</td>\n      <td>...</td>\n      <td>4</td>\n      <td>3</td>\n      <td>2</td>\n      <td>1</td>\n      <td>2</td>\n      <td>5</td>\n      <td>4</td>\n      <td>6</td>\n      <td>10</td>\n      <td>10</td>\n    </tr>\n  </tbody>\n</table>\n<p>5 rows × 33 columns</p>\n</div>"
     },
     "metadata": {},
     "execution_count": 8
    }
   ],
   "source": [
    "mat.head(5)"
   ]
  },
  {
   "cell_type": "code",
   "execution_count": 9,
   "metadata": {},
   "outputs": [
    {
     "output_type": "stream",
     "name": "stdout",
     "text": [
      "Boys is:  187\nGirls is:  208\n"
     ]
    }
   ],
   "source": [
    "boys,girls = list(mat.sex).count('M'),list(mat.sex).count('F')\n",
    "print('Boys is: ',boys)\n",
    "print('Girls is: ',girls)"
   ]
  },
  {
   "cell_type": "code",
   "execution_count": 10,
   "metadata": {},
   "outputs": [
    {
     "output_type": "stream",
     "name": "stdout",
     "text": [
      "59\n"
     ]
    }
   ],
   "source": [
    "students_17_year_old= mat[((mat['G3']>=10) & (mat['G3']<=15))][mat['age']==17]['age'].count()\n",
    "print(students_17_year_old)"
   ]
  },
  {
   "cell_type": "code",
   "execution_count": 11,
   "metadata": {},
   "outputs": [
    {
     "output_type": "stream",
     "name": "stdout",
     "text": [
      "    school sex  age address famsize Pstatus  Medu  Fedu      Mjob      Fjob  \\\n47      GP   M   16       U     GT3       T     4     3    health  services   \n374     MS   F   18       R     LE3       T     4     4     other     other   \n42      GP   M   15       U     GT3       T     4     4  services   teacher   \n110     GP   M   15       U     LE3       A     4     4   teacher   teacher   \n113     GP   M   15       U     LE3       T     4     2   teacher     other   \n286     GP   F   18       U     GT3       T     2     2   at_home   at_home   \n129     GP   M   16       R     GT3       T     4     4   teacher   teacher   \n198     GP   F   17       U     GT3       T     4     4  services   teacher   \n245     GP   M   16       U     GT3       T     2     1     other     other   \n293     GP   F   17       R     LE3       T     3     1  services     other   \n\n     ... famrel freetime  goout  Dalc  Walc health absences  G1  G2  G3  \n47   ...      4        2      2     1     1      2        4  19  19  20  \n374  ...      5        4      4     1     1      1        0  19  18  19  \n42   ...      4        3      3     1     1      5        2  19  18  18  \n110  ...      5        5      3     1     1      4        6  18  19  19  \n113  ...      3        5      2     1     1      3       10  18  19  19  \n286  ...      4        3      3     1     2      2        5  18  18  19  \n129  ...      3        5      5     2     5      4        8  18  18  18  \n198  ...      4        2      4     2     3      2       24  18  18  18  \n245  ...      4        3      3     1     1      4        6  18  18  18  \n293  ...      3        1      2     1     1      3        6  18  18  18  \n\n[10 rows x 33 columns]\nBoys is: 6\n"
     ]
    }
   ],
   "source": [
    "top_10_students = mat.sort_values(by=['G1','G2','G3'], ascending=False).head(10)\n",
    "boys_from_top_10=list(mat.sort_values(by=['G1','G2','G3'], ascending=False).head(10).sex).count('M')\n",
    "print(top_10_students)\n",
    "print('Boys is:',boys_from_top_10)"
   ]
  },
  {
   "cell_type": "code",
   "execution_count": 30,
   "metadata": {},
   "outputs": [
    {
     "output_type": "stream",
     "name": "stdout",
     "text": [
      "Std is: 11.25329203873895 \nMean is:  8.155172413793103\n"
     ]
    }
   ],
   "source": [
    "std = mat.absences[(mat['internet']=='yes') & (mat['romantic']=='yes')].std()\n",
    "mean = mat.absences[(mat['internet']=='yes') & (mat['romantic']=='yes')].mean()\n",
    "print('Std is:', std,'\\nMean is: ', mean)"
   ]
  },
  {
   "cell_type": "code",
   "execution_count": 13,
   "metadata": {},
   "outputs": [
    {
     "output_type": "stream",
     "name": "stdout",
     "text": [
      "Student counts for each age {15, 16, 17, 18, 19, 20, 21, 22} is : [82, 104, 98, 82, 24, 3, 1, 1]\n"
     ]
    }
   ],
   "source": [
    "student_counts_for_each_age =[]\n",
    "thisset =set(mat.age.sort_values()) \n",
    "for x in thisset:\n",
    "    student_counts_for_each_age.append(list(mat.age).count(x))\n",
    "print('Student counts for each age',thisset, 'is',':',student_counts_for_each_age)"
   ]
  },
  {
   "cell_type": "code",
   "execution_count": 23,
   "metadata": {},
   "outputs": [
    {
     "output_type": "stream",
     "name": "stdout",
     "text": [
      "services services\n"
     ]
    }
   ],
   "source": [
    "father, mother = mat[(mat[\"Fjob\"] != \"other\") & (mat[\"Mjob\"] != \"other\")]\\\n",
    "                    .groupby(['Fjob', 'Mjob']).count()\\\n",
    "                    .sort_values(by=[\"G1\"], ascending=False)\\\n",
    "                    .reset_index()\\\n",
    "                    [\"Fjob\"][0],\\\n",
    "                mat[(mat[\"Fjob\"] != \"other\") & (mat[\"Mjob\"] != \"other\")]\\\n",
    "                    .groupby(['Fjob', 'Mjob']).count()\\\n",
    "                    .sort_values(by=[\"G1\"], ascending=False)\\\n",
    "                    .reset_index()\\\n",
    "                    [\"Mjob\"][0]\n",
    "print(father,mother)"
   ]
  },
  {
   "cell_type": "code",
   "execution_count": 15,
   "metadata": {},
   "outputs": [
    {
     "output_type": "stream",
     "name": "stdout",
     "text": [
      "39 students\n"
     ]
    }
   ],
   "source": [
    "both_present=len(pd.merge(mat,por,how='inner',on=list(mat)[0:-3]))\n",
    "print(both_present,'students')"
   ]
  },
  {
   "cell_type": "code",
   "execution_count": 16,
   "metadata": {},
   "outputs": [
    {
     "output_type": "stream",
     "name": "stdout",
     "text": [
      "2.0868608045953643\n0.8026163909195851\n"
     ]
    }
   ],
   "source": [
    "GP_diff=abs(mat['G3'][mat.school=='GP'].mean()-por['G3'][por.school=='GP'].mean())\n",
    "MS_diff=abs(mat['G3'][mat.school=='MS'].mean()-por['G3'][por.school=='MS'].mean())\n",
    "print(GP_diff)\n",
    "print(MS_diff)"
   ]
  },
  {
   "cell_type": "code",
   "execution_count": 21,
   "metadata": {},
   "outputs": [
    {
     "output_type": "execute_result",
     "data": {
      "text/plain": [
       "[['G2', 'G3'], ['G1', 'G2'], ['G1', 'G3'], ['Dalc', 'Walc'], ['Fedu', 'Medu']]"
      ]
     },
     "metadata": {},
     "execution_count": 21
    }
   ],
   "source": [
    "corr_matrix = mat.corr(method='pearson').abs()\n",
    "list_of_tuples = corr_matrix.unstack()\\\n",
    "                            .sort_values(ascending=False)\\\n",
    "                            .drop_duplicates()[1:6]\\\n",
    "                            .index.tolist()\n",
    "top5_correlations = [sorted(list(elem)) for elem in list_of_tuples]\n",
    "top5_correlations"
   ]
  },
  {
   "cell_type": "code",
   "execution_count": 22,
   "metadata": {},
   "outputs": [],
   "source": [
    "with open('student_answers.txt', 'w') as file:\n",
    "    file.write(f\"{boys} {girls}\\n\")\n",
    "    file.write(f\"{students_17_year_old}\\n\")\n",
    "    file.write(f\"{boys_from_top_10}\\n\")\n",
    "    file.write(f\"{round(mean, 3)} {round(std, 3)}\\n\")\n",
    "    file.write(f\"{student_counts_for_each_age}\\n\")\n",
    "    file.write(f\"{father} {mother}\\n\")\n",
    "    file.write(f\"{both_present}\\n\")\n",
    "    file.write(f\"{round(GP_diff, 3)} {round(MS_diff, 3)}\\n\")\n",
    "    file.write(f\"{top5_correlations}\")"
   ]
  }
 ],
 "metadata": {
  "kernelspec": {
   "display_name": "Python 3",
   "language": "python",
   "name": "python3"
  },
  "language_info": {
   "codemirror_mode": {
    "name": "ipython",
    "version": 3
   },
   "file_extension": ".py",
   "mimetype": "text/x-python",
   "name": "python",
   "nbconvert_exporter": "python",
   "pygments_lexer": "ipython3",
   "version": "3.8.7-final"
  }
 },
 "nbformat": 4,
 "nbformat_minor": 2
}